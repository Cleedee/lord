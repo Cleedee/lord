{
 "cells": [
  {
   "cell_type": "code",
   "execution_count": 1,
   "id": "external-management",
   "metadata": {},
   "outputs": [],
   "source": [
    "from lord.scrap import montar_parser_url, pegar_carta_jogador, pegar_cartas_jogador_por_pacote\n",
    "from lord.scrap import pegar_deck_jogador"
   ]
  },
  {
   "cell_type": "code",
   "execution_count": 2,
   "id": "written-bible",
   "metadata": {},
   "outputs": [],
   "source": [
    "soup = montar_parser_url('http://hallofbeorn.com/LotR/Scenarios/Flies-and-Spiders')"
   ]
  },
  {
   "cell_type": "code",
   "execution_count": 3,
   "id": "particular-luxury",
   "metadata": {},
   "outputs": [],
   "source": [
    "h3_quest_cards = [h3 for h3 in soup.find_all('h3') if h3.contents[0].string == 'Quest Cards'][0]"
   ]
  },
  {
   "cell_type": "code",
   "execution_count": 4,
   "id": "basic-prevention",
   "metadata": {},
   "outputs": [
    {
     "data": {
      "text/plain": [
       "<h3>Quest Cards</h3>"
      ]
     },
     "execution_count": 4,
     "metadata": {},
     "output_type": "execute_result"
    }
   ],
   "source": [
    "h3_quest_cards"
   ]
  },
  {
   "cell_type": "code",
   "execution_count": 5,
   "id": "acquired-enzyme",
   "metadata": {},
   "outputs": [],
   "source": [
    "tag_nome_carta = h3_quest_cards.next_sibling.next_sibling.contents[1]"
   ]
  },
  {
   "cell_type": "code",
   "execution_count": 6,
   "id": "removable-delay",
   "metadata": {},
   "outputs": [
    {
     "data": {
      "text/plain": [
       "<a href=\"/Cards/Details/Into-Mirkwood-THOtD\" title=\"Into Mirkwood\"><span style=\"display:inline-block;width:300px;\">1 - Into Mirkwood</span></a>"
      ]
     },
     "execution_count": 6,
     "metadata": {},
     "output_type": "execute_result"
    }
   ],
   "source": [
    "tag_nome_carta"
   ]
  },
  {
   "cell_type": "code",
   "execution_count": 7,
   "id": "julian-harrison",
   "metadata": {},
   "outputs": [],
   "source": [
    "tag_nome_carta.title"
   ]
  },
  {
   "cell_type": "code",
   "execution_count": 8,
   "id": "silver-emphasis",
   "metadata": {},
   "outputs": [],
   "source": [
    "l = soup('h3', string = 'Quest Cards')"
   ]
  },
  {
   "cell_type": "code",
   "execution_count": 9,
   "id": "radical-target",
   "metadata": {},
   "outputs": [
    {
     "data": {
      "text/plain": [
       "[<h3>Quest Cards</h3>]"
      ]
     },
     "execution_count": 9,
     "metadata": {},
     "output_type": "execute_result"
    }
   ],
   "source": [
    "l"
   ]
  },
  {
   "cell_type": "code",
   "execution_count": 10,
   "id": "actual-group",
   "metadata": {},
   "outputs": [],
   "source": [
    "link = l[0].next_sibling.next_sibling.contents[1]"
   ]
  },
  {
   "cell_type": "code",
   "execution_count": 11,
   "id": "civil-charity",
   "metadata": {},
   "outputs": [
    {
     "data": {
      "text/plain": [
       "'Into Mirkwood'"
      ]
     },
     "execution_count": 11,
     "metadata": {},
     "output_type": "execute_result"
    }
   ],
   "source": [
    "link['title']"
   ]
  },
  {
   "cell_type": "code",
   "execution_count": 12,
   "id": "beneficial-service",
   "metadata": {},
   "outputs": [
    {
     "data": {
      "text/plain": [
       "'\\n'"
      ]
     },
     "execution_count": 12,
     "metadata": {},
     "output_type": "execute_result"
    }
   ],
   "source": [
    "l[0].next_sibling"
   ]
  },
  {
   "cell_type": "code",
   "execution_count": 13,
   "id": "judicial-southeast",
   "metadata": {},
   "outputs": [],
   "source": [
    "carta = pegar_carta_jogador('22147')"
   ]
  },
  {
   "cell_type": "code",
   "execution_count": 14,
   "id": "greek-perspective",
   "metadata": {},
   "outputs": [
    {
     "data": {
      "text/plain": [
       "{'pack_code': 'TFoN',\n",
       " 'pack_name': 'The Fortress of Nurn',\n",
       " 'type_code': 'contract',\n",
       " 'type_name': 'Contract',\n",
       " 'sphere_code': 'neutral',\n",
       " 'sphere_name': 'Neutral',\n",
       " 'position': 147,\n",
       " 'code': '22147',\n",
       " 'name': 'Bond of Friendship',\n",
       " 'text': 'Your deck must be exactly 50 players cards and include exactly 10 cards from each of these four spheres: [leadership], [lore], [spirit], and [tactics]. You cannot include more than 2 copies of any card by title in your deck.\\n\\nWhen choosing your starting heroes, you may choose 4 heroes instead of 3. Each of your heroes must belong to a different sphere.',\n",
       " 'flavor': '\"You can trust us to stick to you through think and thin - to the bitter end.\"\\n-Merry, The Fellowship of the Ring',\n",
       " 'is_unique': False,\n",
       " 'quantity': 1,\n",
       " 'deck_limit': 1,\n",
       " 'illustrator': 'Borja Pindado',\n",
       " 'octgnid': '69897fb3-9152-4886-bb7d-e947fd0aa4f5',\n",
       " 'has_errata': False,\n",
       " 'url': 'https://ringsdb.com/card/22147'}"
      ]
     },
     "execution_count": 14,
     "metadata": {},
     "output_type": "execute_result"
    }
   ],
   "source": [
    "carta"
   ]
  },
  {
   "cell_type": "code",
   "execution_count": 15,
   "id": "expressed-marks",
   "metadata": {},
   "outputs": [],
   "source": [
    "cartas = pegar_cartas_jogador_por_pacote('TFoN')"
   ]
  },
  {
   "cell_type": "code",
   "execution_count": 16,
   "id": "removed-bradford",
   "metadata": {},
   "outputs": [
    {
     "data": {
      "text/plain": [
       "[{'pack_code': 'TFoN',\n",
       "  'pack_name': 'The Fortress of Nurn',\n",
       "  'type_code': 'hero',\n",
       "  'type_name': 'Hero',\n",
       "  'sphere_code': 'spirit',\n",
       "  'sphere_name': 'Spirit',\n",
       "  'position': 137,\n",
       "  'code': '22137',\n",
       "  'name': 'Aragorn',\n",
       "  'traits': 'Dúnedain. Ranger. Scout.',\n",
       "  'text': \"Sentinel.\\r\\n<b>Action:</b> Exhaust Aragorn to choose a location in the staging area. Until the end of the phase, that location gets -X [threat], where X is Aragorn's [willpower]. If this effect reduces the location's [threat] to 0, place 1 progress on it. (Limit once per round.)\",\n",
       "  'is_unique': True,\n",
       "  'threat': 12,\n",
       "  'willpower': 2,\n",
       "  'attack': 3,\n",
       "  'defense': 2,\n",
       "  'health': 5,\n",
       "  'quantity': 1,\n",
       "  'deck_limit': 1,\n",
       "  'illustrator': 'Aleksander Karcz',\n",
       "  'octgnid': '950e710c-4b2f-4e65-9e5d-8f0f7390812c',\n",
       "  'has_errata': False,\n",
       "  'url': 'https://ringsdb.com/card/22137'},\n",
       " {'pack_code': 'TFoN',\n",
       "  'pack_name': 'The Fortress of Nurn',\n",
       "  'type_code': 'attachment',\n",
       "  'type_name': 'Attachment',\n",
       "  'sphere_code': 'leadership',\n",
       "  'sphere_name': 'Leadership',\n",
       "  'position': 138,\n",
       "  'code': '22138',\n",
       "  'name': 'Shining Shield',\n",
       "  'traits': 'Armor. Item.',\n",
       "  'text': 'Attach to a <b><i>Noble</i></b> hero. Limit 1 per hero. \\r\\nRestricted. \\r\\nAttached hero gets +1 [defense] (+2 [defense] instead if your threat is 40 or higher).',\n",
       "  'flavor': '...his shinning shield was scored with runs...\\r\\n-The Fellowship of the Ring',\n",
       "  'is_unique': False,\n",
       "  'cost': '1',\n",
       "  'quantity': 3,\n",
       "  'deck_limit': 3,\n",
       "  'illustrator': 'Álvaro Calvo Escudero',\n",
       "  'octgnid': 'c06f0513-459b-48ae-9e40-9a1a56e845ef',\n",
       "  'has_errata': False,\n",
       "  'url': 'https://ringsdb.com/card/22138'},\n",
       " {'pack_code': 'TFoN',\n",
       "  'pack_name': 'The Fortress of Nurn',\n",
       "  'type_code': 'event',\n",
       "  'type_name': 'Event',\n",
       "  'sphere_code': 'leadership',\n",
       "  'sphere_name': 'Leadership',\n",
       "  'position': 139,\n",
       "  'code': '22139',\n",
       "  'name': 'Knowledge of the Enemy',\n",
       "  'text': '<b>Planning Action:</b> Choose a hero you control. Add 1 resource to its resource pool for each enemy engaged with you. You can only play 1 Knowledge of the Enemy each round.',\n",
       "  'flavor': '\"If a man must needs walk in sight of the Black Gate, or tread the deadly flowers of Morgul Vale, then perils he will have.\"\\r\\n-Aragorm, The Fellowship of the Ring',\n",
       "  'is_unique': False,\n",
       "  'cost': '0',\n",
       "  'quantity': 3,\n",
       "  'deck_limit': 3,\n",
       "  'illustrator': 'Kevin Zamir Goeke',\n",
       "  'octgnid': '34e2863f-f5e4-47eb-b601-b727778563ea',\n",
       "  'has_errata': False,\n",
       "  'url': 'https://ringsdb.com/card/22139'},\n",
       " {'pack_code': 'TFoN',\n",
       "  'pack_name': 'The Fortress of Nurn',\n",
       "  'type_code': 'ally',\n",
       "  'type_name': 'Ally',\n",
       "  'sphere_code': 'lore',\n",
       "  'sphere_name': 'Lore',\n",
       "  'position': 140,\n",
       "  'code': '22140',\n",
       "  'name': 'Haleth',\n",
       "  'traits': 'Woodman. Scout.',\n",
       "  'text': '<b>Response:</b> After Haleth quests successfully, search the top 5 cards of your deck for an attachment and add it to your hand. Shuffle your deck.',\n",
       "  'is_unique': True,\n",
       "  'cost': '4',\n",
       "  'willpower': 2,\n",
       "  'attack': 2,\n",
       "  'defense': 1,\n",
       "  'health': 3,\n",
       "  'quantity': 3,\n",
       "  'deck_limit': 3,\n",
       "  'illustrator': 'Kevin Zamir Goeke',\n",
       "  'octgnid': '8cd14645-20ad-4316-94cd-2381e828c68d',\n",
       "  'has_errata': False,\n",
       "  'url': 'https://ringsdb.com/card/22140'},\n",
       " {'pack_code': 'TFoN',\n",
       "  'pack_name': 'The Fortress of Nurn',\n",
       "  'type_code': 'event',\n",
       "  'type_name': 'Event',\n",
       "  'sphere_code': 'lore',\n",
       "  'sphere_name': 'Lore',\n",
       "  'position': 141,\n",
       "  'code': '22141',\n",
       "  'name': 'Woodman Lore',\n",
       "  'text': '<b>Action:</b> Ready up to X <b><i>Woodman</i></b> characters you control, where X is the number of locations with player card attachments.',\n",
       "  'flavor': 'The Woodman said that there was some new terror abroad...\\r\\n-The Fellowship of the Ring',\n",
       "  'is_unique': False,\n",
       "  'cost': '1',\n",
       "  'quantity': 3,\n",
       "  'deck_limit': 3,\n",
       "  'illustrator': 'Alyn Spiller',\n",
       "  'octgnid': '93199aaf-21a2-4935-9395-4dd76f541c3d',\n",
       "  'has_errata': False,\n",
       "  'url': 'https://ringsdb.com/card/22141'},\n",
       " {'pack_code': 'TFoN',\n",
       "  'pack_name': 'The Fortress of Nurn',\n",
       "  'type_code': 'ally',\n",
       "  'type_name': 'Ally',\n",
       "  'sphere_code': 'tactics',\n",
       "  'sphere_name': 'Tactics',\n",
       "  'position': 142,\n",
       "  'code': '22142',\n",
       "  'name': 'Westfold Lancer',\n",
       "  'traits': 'Rohan. Warrior.',\n",
       "  'text': '<b>Response:</b> After Westfold Lancer quests successfully, discard it to choose a non-unique enemy in the staging area. Deal 2 damage to the chosen enemy.',\n",
       "  'flavor': '...the white fury of the Northmen burned the hotter, and more skilled was their knighthood with long spears...\\r\\n-The Return of the King',\n",
       "  'is_unique': False,\n",
       "  'cost': '3',\n",
       "  'willpower': 2,\n",
       "  'attack': 2,\n",
       "  'defense': 0,\n",
       "  'health': 2,\n",
       "  'quantity': 3,\n",
       "  'deck_limit': 3,\n",
       "  'illustrator': 'Stanislav Dikolenko',\n",
       "  'octgnid': '38420e0c-f73c-4df4-8161-c189fecb9114',\n",
       "  'has_errata': False,\n",
       "  'url': 'https://ringsdb.com/card/22142'},\n",
       " {'pack_code': 'TFoN',\n",
       "  'pack_name': 'The Fortress of Nurn',\n",
       "  'type_code': 'attachment',\n",
       "  'type_name': 'Attachment',\n",
       "  'sphere_code': 'tactics',\n",
       "  'sphere_name': 'Tactics',\n",
       "  'position': 143,\n",
       "  'code': '22143',\n",
       "  'name': 'Tireless Thoroughbred',\n",
       "  'traits': 'Mount.',\n",
       "  'text': 'Restricted.\\r\\nAttach to a <b><i>Warrior</i></b> character. Restricted. Attached character gains ranged and sentinel.',\n",
       "  'flavor': 'Then he leapt forward, spurring the earth, and was gone like the north wine from the mountains.\\r\\n-The Two Towers.',\n",
       "  'is_unique': False,\n",
       "  'cost': '2',\n",
       "  'quantity': 3,\n",
       "  'deck_limit': 3,\n",
       "  'illustrator': 'Carlos Palma Cruchaga',\n",
       "  'octgnid': 'a0f91e12-2137-4edf-bc85-37bd21c43097',\n",
       "  'has_errata': False,\n",
       "  'url': 'https://ringsdb.com/card/22143'},\n",
       " {'pack_code': 'TFoN',\n",
       "  'pack_name': 'The Fortress of Nurn',\n",
       "  'type_code': 'ally',\n",
       "  'type_name': 'Ally',\n",
       "  'sphere_code': 'spirit',\n",
       "  'sphere_name': 'Spirit',\n",
       "  'position': 144,\n",
       "  'code': '22144',\n",
       "  'name': 'Misty Mountain Journeyman',\n",
       "  'traits': 'Dúnedain. Scout.',\n",
       "  'text': 'You cannot play Misty Mountain Journeyman from your hand unless you are engaged with an enemy.',\n",
       "  'flavor': 'Rangers passed at times beyond the hills, but they were few and did not stay.\\n-The Fellowship of the Ring',\n",
       "  'is_unique': False,\n",
       "  'cost': '1',\n",
       "  'willpower': 2,\n",
       "  'attack': 0,\n",
       "  'defense': 0,\n",
       "  'health': 1,\n",
       "  'quantity': 3,\n",
       "  'deck_limit': 3,\n",
       "  'illustrator': 'Aleksander Karcz',\n",
       "  'octgnid': '1fb6e46c-cd32-4435-a750-b1198ef5d9de',\n",
       "  'has_errata': False,\n",
       "  'url': 'https://ringsdb.com/card/22144'},\n",
       " {'pack_code': 'TFoN',\n",
       "  'pack_name': 'The Fortress of Nurn',\n",
       "  'type_code': 'event',\n",
       "  'type_name': 'Event',\n",
       "  'sphere_code': 'spirit',\n",
       "  'sphere_name': 'Spirit',\n",
       "  'position': 145,\n",
       "  'code': '22145',\n",
       "  'name': 'A Desperate Path',\n",
       "  'text': \"<b>Response:</b> At the end of the staging step, discard cards from the top of the encounter deck until you discard a treachery. Resolve its 'when revealed' effects to ready each of your questing characters. Each of your questing characters gets +1 [willpower] until the end of the phase.\",\n",
       "  'is_unique': False,\n",
       "  'cost': '2',\n",
       "  'quantity': 3,\n",
       "  'deck_limit': 3,\n",
       "  'illustrator': 'Aleksander Karcz',\n",
       "  'octgnid': 'bedda85f-f07f-469a-b6f7-d59910210a86',\n",
       "  'has_errata': False,\n",
       "  'url': 'https://ringsdb.com/card/22145'},\n",
       " {'pack_code': 'TFoN',\n",
       "  'pack_name': 'The Fortress of Nurn',\n",
       "  'type_code': 'attachment',\n",
       "  'type_name': 'Attachment',\n",
       "  'sphere_code': 'neutral',\n",
       "  'sphere_name': 'Neutral',\n",
       "  'position': 146,\n",
       "  'code': '22146',\n",
       "  'name': 'Thorongil',\n",
       "  'traits': 'Title.',\n",
       "  'text': 'Attach to a non-[fellowship], non-[baggins] hero you control. \\r\\n<b>Response:</b> After you attach Thorongil to a hero, search your collection for a different non-[fellowship], non-[baggins] version of that hero and attach it to Thorongil. While Thorongil is in play, attached hero gains the game text and resource icon of the attached hero card. If Thorongil leaves play, remove the hero card attached to it from the game.',\n",
       "  'is_unique': True,\n",
       "  'cost': '3',\n",
       "  'quantity': 3,\n",
       "  'deck_limit': 3,\n",
       "  'illustrator': 'Chris Grun',\n",
       "  'octgnid': 'd03cfbbc-4bc5-4d9b-bcd4-6c64c8ca7abc',\n",
       "  'has_errata': False,\n",
       "  'url': 'https://ringsdb.com/card/22146'},\n",
       " {'pack_code': 'TFoN',\n",
       "  'pack_name': 'The Fortress of Nurn',\n",
       "  'type_code': 'contract',\n",
       "  'type_name': 'Contract',\n",
       "  'sphere_code': 'neutral',\n",
       "  'sphere_name': 'Neutral',\n",
       "  'position': 147,\n",
       "  'code': '22147',\n",
       "  'name': 'Bond of Friendship',\n",
       "  'text': 'Your deck must be exactly 50 players cards and include exactly 10 cards from each of these four spheres: [leadership], [lore], [spirit], and [tactics]. You cannot include more than 2 copies of any card by title in your deck.\\n\\nWhen choosing your starting heroes, you may choose 4 heroes instead of 3. Each of your heroes must belong to a different sphere.',\n",
       "  'flavor': '\"You can trust us to stick to you through think and thin - to the bitter end.\"\\n-Merry, The Fellowship of the Ring',\n",
       "  'is_unique': False,\n",
       "  'quantity': 1,\n",
       "  'deck_limit': 1,\n",
       "  'illustrator': 'Borja Pindado',\n",
       "  'octgnid': '69897fb3-9152-4886-bb7d-e947fd0aa4f5',\n",
       "  'has_errata': False,\n",
       "  'url': 'https://ringsdb.com/card/22147'}]"
      ]
     },
     "execution_count": 16,
     "metadata": {},
     "output_type": "execute_result"
    }
   ],
   "source": [
    "cartas"
   ]
  },
  {
   "cell_type": "code",
   "execution_count": 17,
   "id": "affected-mumbai",
   "metadata": {},
   "outputs": [],
   "source": [
    "deck = pegar_deck_jogador('20040')"
   ]
  },
  {
   "cell_type": "code",
   "execution_count": 18,
   "id": "apparent-closing",
   "metadata": {},
   "outputs": [
    {
     "data": {
      "text/plain": [
       "{'id': 20040,\n",
       " 'name': 'Four Hobbitsesss',\n",
       " 'date_creation': '2021-03-22T14:47:32-03:00',\n",
       " 'date_update': '2021-03-22T14:47:32-03:00',\n",
       " 'description_md': '',\n",
       " 'user_id': 9451,\n",
       " 'heroes': {'10001': 1, '17109': 1, '19112': 1, '21002': 1},\n",
       " 'slots': {'01023': 2,\n",
       "  '01036': 2,\n",
       "  '01045': 1,\n",
       "  '01049': 1,\n",
       "  '01050': 2,\n",
       "  '01057': 2,\n",
       "  '01073': 2,\n",
       "  '02103': 2,\n",
       "  '06010': 2,\n",
       "  '06065': 1,\n",
       "  '08087': 2,\n",
       "  '09014': 1,\n",
       "  '10001': 1,\n",
       "  '10007': 2,\n",
       "  '10034': 1,\n",
       "  '12035': 1,\n",
       "  '17002': 2,\n",
       "  '17109': 1,\n",
       "  '19112': 1,\n",
       "  '19115': 1,\n",
       "  '19116': 2,\n",
       "  '19117': 2,\n",
       "  '19121': 2,\n",
       "  '21002': 1,\n",
       "  '22005': 2,\n",
       "  '22006': 2,\n",
       "  '22110': 2,\n",
       "  '22142': 1,\n",
       "  '22147': 1,\n",
       "  '141006': 1,\n",
       "  '141008': 1,\n",
       "  '142003': 1,\n",
       "  '142005': 1,\n",
       "  '144005': 2,\n",
       "  '146005': 2,\n",
       "  '146012': 2},\n",
       " 'sideslots': {'01034': 2,\n",
       "  '19149': 2,\n",
       "  '21001': 1,\n",
       "  '21009': 2,\n",
       "  '21010': 2,\n",
       "  '22033': 1},\n",
       " 'version': '1.0',\n",
       " 'freeze_comments': None,\n",
       " 'is_published': True,\n",
       " 'nb_votes': 0,\n",
       " 'nb_favorites': 0,\n",
       " 'nb_comments': 0,\n",
       " 'starting_threat': 25}"
      ]
     },
     "execution_count": 18,
     "metadata": {},
     "output_type": "execute_result"
    }
   ],
   "source": [
    "deck"
   ]
  },
  {
   "cell_type": "code",
   "execution_count": 20,
   "id": "norwegian-management",
   "metadata": {},
   "outputs": [
    {
     "data": {
      "text/plain": [
       "'/Cards/Details/Into-Mirkwood-THOtD'"
      ]
     },
     "execution_count": 20,
     "metadata": {},
     "output_type": "execute_result"
    }
   ],
   "source": [
    "link['href']"
   ]
  },
  {
   "cell_type": "code",
   "execution_count": null,
   "id": "expired-mailman",
   "metadata": {},
   "outputs": [],
   "source": []
  }
 ],
 "metadata": {
  "kernelspec": {
   "display_name": "Python 3",
   "language": "python",
   "name": "python3"
  },
  "language_info": {
   "codemirror_mode": {
    "name": "ipython",
    "version": 3
   },
   "file_extension": ".py",
   "mimetype": "text/x-python",
   "name": "python",
   "nbconvert_exporter": "python",
   "pygments_lexer": "ipython3",
   "version": "3.9.2"
  }
 },
 "nbformat": 4,
 "nbformat_minor": 5
}
